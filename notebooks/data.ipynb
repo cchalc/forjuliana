{
 "metadata": {
  "language_info": {
   "codemirror_mode": {
    "name": "ipython",
    "version": 3
   },
   "file_extension": ".py",
   "mimetype": "text/x-python",
   "name": "python",
   "nbconvert_exporter": "python",
   "pygments_lexer": "ipython3",
   "version": "3.8.6-final"
  },
  "orig_nbformat": 2,
  "kernelspec": {
   "name": "python3",
   "display_name": "Python 3"
  }
 },
 "nbformat": 4,
 "nbformat_minor": 2,
 "cells": [
  {
   "source": [
    "# Combine datasets together"
   ],
   "cell_type": "markdown",
   "metadata": {}
  },
  {
   "cell_type": "code",
   "execution_count": 1,
   "metadata": {},
   "outputs": [],
   "source": [
    "# Import libraries\n",
    "import os #operating system\n",
    "import glob # for reading multiple files\n",
    "from glob import glob\n",
    "import pandas as pd #pandas for dataframe management\n",
    "import matplotlib.pyplot as plt #matplotlib for plotting\n",
    "import matplotlib.dates as mdates # alias for date formatting\n",
    "import numpy as np # for generating synthetic data\n",
    "\n",
    "# Handle date time conversions between pandas and matplotlib\n",
    "from pandas.plotting import register_matplotlib_converters\n",
    "register_matplotlib_converters()\n"
   ]
  },
  {
   "cell_type": "code",
   "execution_count": 2,
   "metadata": {},
   "outputs": [],
   "source": [
    "# Set some variables\n",
    "dataPath = '../data' # set data path"
   ]
  },
  {
   "cell_type": "code",
   "execution_count": 3,
   "metadata": {},
   "outputs": [],
   "source": [
    "# Define a function to read the data\n",
    "def read_data(file):\n",
    "# Read in excel \n",
    "    df = (pd.read_excel(\n",
    "        file,\n",
    "        skiprows=range(1,9),\n",
    "        usecols='B:C',\n",
    "        header=0,\n",
    "    ))\n",
    "\n",
    "    # remove last rows\n",
    "    df.drop(\n",
    "        df.tail(2).index,\n",
    "        inplace=True\n",
    "    )\n",
    "\n",
    "    # fix index and naming\n",
    "    df.columns = ['date', 'demand']\n",
    "    df['date'] = pd.to_datetime(df['date']) # convert column to datetime\n",
    "    df.set_index('date', inplace=True)\n",
    "\n",
    "    return df"
   ]
  },
  {
   "source": [
    "# Read all the data"
   ],
   "cell_type": "markdown",
   "metadata": {}
  },
  {
   "cell_type": "code",
   "execution_count": 4,
   "metadata": {},
   "outputs": [],
   "source": [
    "# Create a list of files to combine\n",
    "PATH = dataPath\n",
    "EXT = \"*.xls\"\n",
    "all_files = [file\n",
    "            for path, subdir, files in os.walk(PATH)\n",
    "            for file in glob(os.path.join(path, EXT))]\n",
    "\n",
    "# Assemble files into a final dataframe\n",
    "df = pd.DataFrame()\n",
    "for file in all_files:\n",
    "    tmp = read_data(file)\n",
    "    dfs = [df, tmp]\n",
    "    df = pd.concat(dfs)"
   ]
  },
  {
   "source": [
    "# Data processing"
   ],
   "cell_type": "markdown",
   "metadata": {}
  },
  {
   "cell_type": "code",
   "execution_count": 78,
   "metadata": {},
   "outputs": [],
   "source": [
    "df.sort_index(inplace=True)\n",
    "df['demand'] = df['demand'].apply(pd.to_numeric, errors='coerce')\n",
    "\n",
    "ts_daily = df.resample('D').mean()\n",
    "days = ts_daily.index.strftime(\"%Y-%m-%d\")\n",
    "\n",
    "ts_monthly = df.resample('M').mean()\n",
    "months = ts_monthly.index.strftime(\"%Y-%m\")"
   ]
  },
  {
   "source": [
    "## Daily"
   ],
   "cell_type": "markdown",
   "metadata": {}
  },
  {
   "cell_type": "code",
   "execution_count": 79,
   "metadata": {},
   "outputs": [],
   "source": [
    "def create_date_labels(df):\n",
    "    \"\"\" Function to create day labels\n",
    "    \"\"\"\n",
    "    df['year'] = df.index.year\n",
    "    df['month'] = df.index.month\n",
    "    df['weekday'] = df.index.weekday\n",
    "    df['month_name'] = df.index.month_name()\n",
    "    df['day_name'] = df.index.day_name()\n",
    "\n",
    "    return df"
   ]
  },
  {
   "cell_type": "code",
   "execution_count": 80,
   "metadata": {},
   "outputs": [],
   "source": [
    "ts_daily = create_date_labels(ts_daily)"
   ]
  },
  {
   "source": [
    "### Filter by weekends and holidays"
   ],
   "cell_type": "markdown",
   "metadata": {}
  },
  {
   "cell_type": "code",
   "execution_count": 81,
   "metadata": {},
   "outputs": [
    {
     "output_type": "execute_result",
     "data": {
      "text/plain": [
       "               demand  year  month  weekday month_name  day_name\n",
       "date                                                            \n",
       "2019-01-05  47.747368  2019      1        5    January  Saturday\n",
       "2019-01-06  46.443789  2019      1        6    January    Sunday\n",
       "2019-01-12  33.711158  2019      1        5    January  Saturday\n",
       "2019-01-13  39.518351  2019      1        6    January    Sunday\n",
       "2019-01-19  38.954227  2019      1        5    January  Saturday\n",
       "...               ...   ...    ...      ...        ...       ...\n",
       "2019-12-15  33.788041  2019     12        6   December    Sunday\n",
       "2019-12-21  31.858144  2019     12        5   December  Saturday\n",
       "2019-12-22  31.680000  2019     12        6   December    Sunday\n",
       "2019-12-28  30.759588  2019     12        5   December  Saturday\n",
       "2019-12-29  30.848660  2019     12        6   December    Sunday\n",
       "\n",
       "[104 rows x 6 columns]"
      ],
      "text/html": "<div>\n<style scoped>\n    .dataframe tbody tr th:only-of-type {\n        vertical-align: middle;\n    }\n\n    .dataframe tbody tr th {\n        vertical-align: top;\n    }\n\n    .dataframe thead th {\n        text-align: right;\n    }\n</style>\n<table border=\"1\" class=\"dataframe\">\n  <thead>\n    <tr style=\"text-align: right;\">\n      <th></th>\n      <th>demand</th>\n      <th>year</th>\n      <th>month</th>\n      <th>weekday</th>\n      <th>month_name</th>\n      <th>day_name</th>\n    </tr>\n    <tr>\n      <th>date</th>\n      <th></th>\n      <th></th>\n      <th></th>\n      <th></th>\n      <th></th>\n      <th></th>\n    </tr>\n  </thead>\n  <tbody>\n    <tr>\n      <th>2019-01-05</th>\n      <td>47.747368</td>\n      <td>2019</td>\n      <td>1</td>\n      <td>5</td>\n      <td>January</td>\n      <td>Saturday</td>\n    </tr>\n    <tr>\n      <th>2019-01-06</th>\n      <td>46.443789</td>\n      <td>2019</td>\n      <td>1</td>\n      <td>6</td>\n      <td>January</td>\n      <td>Sunday</td>\n    </tr>\n    <tr>\n      <th>2019-01-12</th>\n      <td>33.711158</td>\n      <td>2019</td>\n      <td>1</td>\n      <td>5</td>\n      <td>January</td>\n      <td>Saturday</td>\n    </tr>\n    <tr>\n      <th>2019-01-13</th>\n      <td>39.518351</td>\n      <td>2019</td>\n      <td>1</td>\n      <td>6</td>\n      <td>January</td>\n      <td>Sunday</td>\n    </tr>\n    <tr>\n      <th>2019-01-19</th>\n      <td>38.954227</td>\n      <td>2019</td>\n      <td>1</td>\n      <td>5</td>\n      <td>January</td>\n      <td>Saturday</td>\n    </tr>\n    <tr>\n      <th>...</th>\n      <td>...</td>\n      <td>...</td>\n      <td>...</td>\n      <td>...</td>\n      <td>...</td>\n      <td>...</td>\n    </tr>\n    <tr>\n      <th>2019-12-15</th>\n      <td>33.788041</td>\n      <td>2019</td>\n      <td>12</td>\n      <td>6</td>\n      <td>December</td>\n      <td>Sunday</td>\n    </tr>\n    <tr>\n      <th>2019-12-21</th>\n      <td>31.858144</td>\n      <td>2019</td>\n      <td>12</td>\n      <td>5</td>\n      <td>December</td>\n      <td>Saturday</td>\n    </tr>\n    <tr>\n      <th>2019-12-22</th>\n      <td>31.680000</td>\n      <td>2019</td>\n      <td>12</td>\n      <td>6</td>\n      <td>December</td>\n      <td>Sunday</td>\n    </tr>\n    <tr>\n      <th>2019-12-28</th>\n      <td>30.759588</td>\n      <td>2019</td>\n      <td>12</td>\n      <td>5</td>\n      <td>December</td>\n      <td>Saturday</td>\n    </tr>\n    <tr>\n      <th>2019-12-29</th>\n      <td>30.848660</td>\n      <td>2019</td>\n      <td>12</td>\n      <td>6</td>\n      <td>December</td>\n      <td>Sunday</td>\n    </tr>\n  </tbody>\n</table>\n<p>104 rows × 6 columns</p>\n</div>"
     },
     "metadata": {},
     "execution_count": 81
    }
   ],
   "source": [
    "ts_daily.loc[ts_daily['weekday'] < 5] # Weekday\n",
    "ts_daily.loc[ts_daily['weekday'] >= 5] # Weekend\n"
   ]
  },
  {
   "cell_type": "code",
   "execution_count": 83,
   "metadata": {},
   "outputs": [],
   "source": [
    "from datetime import date\n",
    "import holidays\n",
    "# from pandas.tseries.holiday "
   ]
  },
  {
   "cell_type": "code",
   "execution_count": 84,
   "metadata": {},
   "outputs": [
    {
     "output_type": "stream",
     "name": "stdout",
     "text": [
      "2019-01-01\n2019-04-21\n2019-05-01\n2019-09-07\n2019-10-12\n2019-11-02\n2019-11-15\n2019-12-25\n2019-04-19\n2019-06-20\n2019-03-06\n2019-03-05\n"
     ]
    }
   ],
   "source": [
    "brazil_holidays = holidays.Brazil()\n",
    "for ptr in holidays.Brazil(years = 2019).items():\n",
    "    print(str(ptr[0]))"
   ]
  },
  {
   "cell_type": "code",
   "execution_count": 88,
   "metadata": {},
   "outputs": [
    {
     "output_type": "execute_result",
     "data": {
      "text/plain": [
       "               demand  year  month  weekday month_name   day_name\n",
       "date                                                             \n",
       "2019-01-01  36.833684  2019      1        1    January    Tuesday\n",
       "2019-01-02  42.563368  2019      1        2    January  Wednesday\n",
       "2019-01-03  49.657263  2019      1        3    January   Thursday\n",
       "2019-01-04  69.544421  2019      1        4    January     Friday\n",
       "2019-01-05  47.747368  2019      1        5    January   Saturday"
      ],
      "text/html": "<div>\n<style scoped>\n    .dataframe tbody tr th:only-of-type {\n        vertical-align: middle;\n    }\n\n    .dataframe tbody tr th {\n        vertical-align: top;\n    }\n\n    .dataframe thead th {\n        text-align: right;\n    }\n</style>\n<table border=\"1\" class=\"dataframe\">\n  <thead>\n    <tr style=\"text-align: right;\">\n      <th></th>\n      <th>demand</th>\n      <th>year</th>\n      <th>month</th>\n      <th>weekday</th>\n      <th>month_name</th>\n      <th>day_name</th>\n    </tr>\n    <tr>\n      <th>date</th>\n      <th></th>\n      <th></th>\n      <th></th>\n      <th></th>\n      <th></th>\n      <th></th>\n    </tr>\n  </thead>\n  <tbody>\n    <tr>\n      <th>2019-01-01</th>\n      <td>36.833684</td>\n      <td>2019</td>\n      <td>1</td>\n      <td>1</td>\n      <td>January</td>\n      <td>Tuesday</td>\n    </tr>\n    <tr>\n      <th>2019-01-02</th>\n      <td>42.563368</td>\n      <td>2019</td>\n      <td>1</td>\n      <td>2</td>\n      <td>January</td>\n      <td>Wednesday</td>\n    </tr>\n    <tr>\n      <th>2019-01-03</th>\n      <td>49.657263</td>\n      <td>2019</td>\n      <td>1</td>\n      <td>3</td>\n      <td>January</td>\n      <td>Thursday</td>\n    </tr>\n    <tr>\n      <th>2019-01-04</th>\n      <td>69.544421</td>\n      <td>2019</td>\n      <td>1</td>\n      <td>4</td>\n      <td>January</td>\n      <td>Friday</td>\n    </tr>\n    <tr>\n      <th>2019-01-05</th>\n      <td>47.747368</td>\n      <td>2019</td>\n      <td>1</td>\n      <td>5</td>\n      <td>January</td>\n      <td>Saturday</td>\n    </tr>\n  </tbody>\n</table>\n</div>"
     },
     "metadata": {},
     "execution_count": 88
    }
   ],
   "source": [
    "ts_daily.head()"
   ]
  },
  {
   "cell_type": "code",
   "execution_count": 89,
   "metadata": {},
   "outputs": [],
   "source": [
    "ts_daily.reset_index(inplace=True)"
   ]
  },
  {
   "cell_type": "code",
   "execution_count": 93,
   "metadata": {},
   "outputs": [
    {
     "output_type": "execute_result",
     "data": {
      "text/plain": [
       "'Carnaval'"
      ]
     },
     "metadata": {},
     "execution_count": 93
    }
   ],
   "source": [
    "brazil_holidays.get('2019-03-05')"
   ]
  },
  {
   "cell_type": "code",
   "execution_count": 97,
   "metadata": {},
   "outputs": [
    {
     "output_type": "error",
     "ename": "SyntaxError",
     "evalue": "invalid syntax (<ipython-input-97-a9e1d8f2056f>, line 1)",
     "traceback": [
      "\u001b[0;36m  File \u001b[0;32m\"<ipython-input-97-a9e1d8f2056f>\"\u001b[0;36m, line \u001b[0;32m1\u001b[0m\n\u001b[0;31m    ts_daily.loc[ts_daily['date'] = 0]\u001b[0m\n\u001b[0m                                  ^\u001b[0m\n\u001b[0;31mSyntaxError\u001b[0m\u001b[0;31m:\u001b[0m invalid syntax\n"
     ]
    }
   ],
   "source": [
    "ts_daily.loc[ts_daily['date']]"
   ]
  },
  {
   "cell_type": "code",
   "execution_count": 99,
   "metadata": {},
   "outputs": [
    {
     "output_type": "error",
     "ename": "TypeError",
     "evalue": "'Brazil' object is not callable",
     "traceback": [
      "\u001b[0;31m---------------------------------------------------------------------------\u001b[0m",
      "\u001b[0;31mTypeError\u001b[0m                                 Traceback (most recent call last)",
      "\u001b[0;32m<ipython-input-99-d5ecd2fec14c>\u001b[0m in \u001b[0;36m<module>\u001b[0;34m\u001b[0m\n\u001b[0;32m----> 1\u001b[0;31m \u001b[0mts_daily\u001b[0m\u001b[0;34m[\u001b[0m\u001b[0;34m'holiday'\u001b[0m\u001b[0;34m]\u001b[0m \u001b[0;34m=\u001b[0m \u001b[0mbrazil_holidays\u001b[0m\u001b[0;34m(\u001b[0m\u001b[0mts_daily\u001b[0m\u001b[0;34m[\u001b[0m\u001b[0;34m'date'\u001b[0m\u001b[0;34m]\u001b[0m\u001b[0;34m)\u001b[0m\u001b[0;34m\u001b[0m\u001b[0;34m\u001b[0m\u001b[0m\n\u001b[0m",
      "\u001b[0;31mTypeError\u001b[0m: 'Brazil' object is not callable"
     ]
    }
   ],
   "source": [
    "ts_daily['holiday'] = brazil_holidays(ts_daily['date'])"
   ]
  },
  {
   "cell_type": "code",
   "execution_count": 92,
   "metadata": {},
   "outputs": [
    {
     "output_type": "execute_result",
     "data": {
      "text/plain": [
       "0     2019-01-01\n",
       "1     2019-01-02\n",
       "2     2019-01-03\n",
       "3     2019-01-04\n",
       "4     2019-01-05\n",
       "         ...    \n",
       "360   2019-12-27\n",
       "361   2019-12-28\n",
       "362   2019-12-29\n",
       "363   2019-12-30\n",
       "364   2019-12-31\n",
       "Name: date, Length: 365, dtype: datetime64[ns]"
      ]
     },
     "metadata": {},
     "execution_count": 92
    }
   ],
   "source": [
    "ts_daily['date']"
   ]
  },
  {
   "cell_type": "code",
   "execution_count": null,
   "metadata": {},
   "outputs": [],
   "source": []
  },
  {
   "cell_type": "code",
   "execution_count": null,
   "metadata": {},
   "outputs": [],
   "source": []
  },
  {
   "cell_type": "code",
   "execution_count": null,
   "metadata": {},
   "outputs": [],
   "source": []
  },
  {
   "cell_type": "code",
   "execution_count": null,
   "metadata": {},
   "outputs": [],
   "source": []
  },
  {
   "cell_type": "code",
   "execution_count": null,
   "metadata": {},
   "outputs": [],
   "source": []
  },
  {
   "cell_type": "code",
   "execution_count": 66,
   "metadata": {},
   "outputs": [
    {
     "output_type": "execute_result",
     "data": {
      "text/plain": [
       "True"
      ]
     },
     "metadata": {},
     "execution_count": 66
    }
   ],
   "source": [
    "str(ts_daily.index.values[0]) in brazil_holidays"
   ]
  },
  {
   "cell_type": "code",
   "execution_count": null,
   "metadata": {},
   "outputs": [],
   "source": []
  }
 ]
}