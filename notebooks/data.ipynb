{
 "metadata": {
  "language_info": {
   "codemirror_mode": {
    "name": "ipython",
    "version": 3
   },
   "file_extension": ".py",
   "mimetype": "text/x-python",
   "name": "python",
   "nbconvert_exporter": "python",
   "pygments_lexer": "ipython3",
   "version": "3.8.6-final"
  },
  "orig_nbformat": 2,
  "kernelspec": {
   "name": "python3",
   "display_name": "Python 3"
  }
 },
 "nbformat": 4,
 "nbformat_minor": 2,
 "cells": [
  {
   "source": [
    "# Combine datasets together"
   ],
   "cell_type": "markdown",
   "metadata": {}
  },
  {
   "cell_type": "code",
   "execution_count": 1,
   "metadata": {},
   "outputs": [],
   "source": [
    "# Import libraries\n",
    "import os #operating system\n",
    "import glob # for reading multiple files\n",
    "from glob import glob\n",
    "import pandas as pd #pandas for dataframe management\n",
    "import matplotlib.pyplot as plt #matplotlib for plotting\n",
    "import matplotlib.dates as mdates # alias for date formatting\n",
    "import numpy as np # for generating synthetic data\n",
    "\n",
    "# Handle date time conversions between pandas and matplotlib\n",
    "from pandas.plotting import register_matplotlib_converters\n",
    "register_matplotlib_converters()\n"
   ]
  },
  {
   "cell_type": "code",
   "execution_count": 2,
   "metadata": {},
   "outputs": [],
   "source": [
    "# Set some variables\n",
    "dataPath = '../data' # set data path\n",
    "years = [2019]"
   ]
  },
  {
   "cell_type": "code",
   "execution_count": 3,
   "metadata": {},
   "outputs": [],
   "source": [
    "# Define a function to read the data\n",
    "def read_data(file):\n",
    "# Read in excel \n",
    "    df = (pd.read_excel(\n",
    "        file,\n",
    "        skiprows=range(1,9),\n",
    "        usecols='B:C',\n",
    "        header=0,\n",
    "    ))\n",
    "\n",
    "    # remove last rows\n",
    "    df.drop(\n",
    "        df.tail(2).index,\n",
    "        inplace=True\n",
    "    )\n",
    "\n",
    "    # fix index and naming\n",
    "    df.columns = ['date', 'demand']\n",
    "    df['date'] = pd.to_datetime(df['date']) # convert column to datetime\n",
    "    df.set_index('date', inplace=True)\n",
    "\n",
    "    return df"
   ]
  },
  {
   "source": [
    "# Read all the data"
   ],
   "cell_type": "markdown",
   "metadata": {}
  },
  {
   "cell_type": "code",
   "execution_count": 4,
   "metadata": {},
   "outputs": [],
   "source": [
    "# Create a list of files to combine\n",
    "PATH = os.path.join(dataPath, str(years[0]))\n",
    "EXT = \"*.xls\"\n",
    "all_files = [file\n",
    "            for path, subdir, files in os.walk(PATH)\n",
    "            for file in glob(os.path.join(path, EXT))]\n",
    "\n",
    "# Assemble files into a final dataframe\n",
    "df = pd.DataFrame()\n",
    "for file in all_files:\n",
    "    tmp = read_data(file)\n",
    "    dfs = [df, tmp]\n",
    "    df = pd.concat(dfs)"
   ]
  },
  {
   "cell_type": "code",
   "execution_count": 5,
   "metadata": {},
   "outputs": [
    {
     "output_type": "execute_result",
     "data": {
      "text/plain": [
       "(35381, 1)"
      ]
     },
     "metadata": {},
     "execution_count": 5
    }
   ],
   "source": [
    "df.shape"
   ]
  },
  {
   "cell_type": "code",
   "execution_count": null,
   "metadata": {},
   "outputs": [],
   "source": []
  }
 ]
}